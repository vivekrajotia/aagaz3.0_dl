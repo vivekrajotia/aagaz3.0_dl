{
 "cells": [
  {
   "cell_type": "code",
   "execution_count": 3,
   "id": "5ab360f1",
   "metadata": {},
   "outputs": [],
   "source": [
    "import numpy as np\n",
    "import pandas as pd\n",
    "import matplotlib.pyplot as plt\n",
    "import dnn_test\n",
    "from dnn_test import sigmoid,sigmoid_backward,relu,relu_backward\n",
    "np.random.seed(1)"
   ]
  },
  {
   "cell_type": "code",
   "execution_count": 4,
   "id": "d260e100",
   "metadata": {},
   "outputs": [],
   "source": [
    "def init_params(n_x,n_h,n_y): ####for single hidden layer \n",
    "    np.random.seed(2)\n",
    "    w1=np.random.randn(n_h,n_x)*0.01\n",
    "    b1=np.zeros((n_h,1))\n",
    "    w2=np.random.randn(n_y,n_h)*0.01\n",
    "    b2=np.zeros((n_y,1))\n",
    "    \n",
    "    assert(w1.shape==(n_h,n_x))\n",
    "    assert(w2.shape==(n_y,n_h))\n",
    "    assert(b1.shape==(n_h,1))\n",
    "    assert(b2.shape==(n_y,1))\n",
    "    \n",
    "    params={\n",
    "        \"w1\":w1,\n",
    "        \"w2\":w2,\n",
    "        \"b1\":b1,\n",
    "        \"b2\":b2\n",
    "    }\n",
    "    return params"
   ]
  },
  {
   "cell_type": "code",
   "execution_count": 5,
   "id": "74e1986d",
   "metadata": {},
   "outputs": [],
   "source": [
    "def init_params_deep(n_layers): #n_layers= no of layes in deep network\n",
    "    np.random.seed(3)\n",
    "    params={}\n",
    "    l=len(n_layers)\n",
    "    \n",
    "    for i in range(1,l):\n",
    "        params[\"w\"+str(i)]=np.random.randn(n_layers[i],n_layers[i-1])*0.01\n",
    "        params[\"b\"+str(i)]=np.zeros((n_layers[i],1))\n",
    "        \n",
    "        assert(params[\"w\"+str(i)].shape==(n_layers[i],n_layers[i-1]))\n",
    "        assert(params[\"b\"+str(i)].shape==(n_layers[i],1))\n",
    "        \n",
    "    return params\n",
    "        \n",
    "    "
   ]
  },
  {
   "cell_type": "code",
   "execution_count": 6,
   "id": "83243b0d",
   "metadata": {},
   "outputs": [],
   "source": [
    "def lin_forword(a,w,b):\n",
    "    z=np.dot(w,a)+b\n",
    "    assert(z.shape==(w.shape[0],a.shape[1]))\n",
    "    save=(a,w,b)\n",
    "    return z,save"
   ]
  },
  {
   "cell_type": "code",
   "execution_count": 8,
   "id": "370f4edb",
   "metadata": {},
   "outputs": [],
   "source": [
    "def lin_acti_forword(a_prev,w,b,activation):\n",
    "    if activation==\"sigmoid\":\n",
    "        z,l_save=lin_forword(a_prev,w,b)\n",
    "        a,a_save=sigmoid(z)\n",
    "    elif activation==\"relu\":\n",
    "        z,l_save=lin_forword(a_prev,w,b)\n",
    "        a,a_save=relu(z)\n",
    "        \n",
    "    assert(a.shape==(w.shape[0],a_prev.shape[1]))\n",
    "    save=(l_save,a_save)\n",
    "    return a,save"
   ]
  },
  {
   "cell_type": "code",
   "execution_count": 9,
   "id": "7ca4f2c4",
   "metadata": {},
   "outputs": [],
   "source": [
    "def l_forword_model(x,params):\n",
    "    save_d=[]\n",
    "    a=x\n",
    "    l=len(params)//2\n",
    "    \n",
    "    for i in range(1,l):\n",
    "        a_prev=a\n",
    "        a,save=lin_acti_forword(a_prev,params['w'+str(i)],params[\"b\"+str(i)],\"relu\")\n",
    "        save_d.append(save)\n",
    "    \n",
    "    al,save=lin_acti_forword(a,params[\"w\"+str(l)],params[\"b\"+str(l)],\"sigmoid\")\n",
    "    \n",
    "    save_d.append(save)\n",
    "    \n",
    "    assert(al.shape==(1,x.shape[1]))\n",
    "    return al,save_d"
   ]
  },
  {
   "cell_type": "code",
   "execution_count": 10,
   "id": "a9e5cbb8",
   "metadata": {},
   "outputs": [],
   "source": [
    "def com_cost(al,y):\n",
    "    m=y.shape[1]\n",
    "    cost=-(np.dot(y,np.log(al).T)+np.dot((1-y),np.log(1-al).T))/m\n",
    "    cost=np.squeeze(cost)\n",
    "    assert(cost.shape==())\n",
    "    return cost\n",
    "\n",
    "def lin_backward(dz,save):\n",
    "    a_prev,w,b=save\n",
    "    m=a_prev.shape[1]\n",
    "    \n",
    "    dw=np.dot(dz,a_prev.T)/m\n",
    "    db=np.sum(dz,axis=1,keepdims=True)/m\n",
    "    da_prev=np.dot(w.T,dz)\n",
    "    \n",
    "    assert(da_prev.shape==a_prev.shape)\n",
    "    assert(dw.shape==w.shape)\n",
    "    assert(db.shape==b.shape)\n",
    "    return da_prev,dw,db"
   ]
  },
  {
   "cell_type": "code",
   "execution_count": 11,
   "id": "3a18e161",
   "metadata": {},
   "outputs": [],
   "source": [
    "def lin_acti_backward(da,save,activation):\n",
    "    lin_save,acti_save=save\n",
    "    \n",
    "    if activation==\"relu\":\n",
    "        dz=relu_backward(da,acti_save)\n",
    "        da_prev,dw,db=lin_backward(dz,lin_save)\n",
    "        \n",
    "    elif activation==\"sigmoid\":\n",
    "        dz=sigmoid_backward(da,acti_save)\n",
    "        da_prev,dw,db=lin_backward(dz,lin_save)\n",
    "        \n",
    "    return da_prev,dw,db"
   ]
  },
  {
   "cell_type": "code",
   "execution_count": 12,
   "id": "da3b467f",
   "metadata": {},
   "outputs": [],
   "source": [
    "def l_backward_model(al,y,save_d):#save_d=deep layer's data\n",
    "    \n",
    "    \n",
    "    grad={}\n",
    "    \n",
    "    L=len(save_d)\n",
    "    m=al.shape[1]\n",
    "    y=y.reshape(aL.shape)\n",
    "    \n",
    "    daL=-(y/aL-(1-y)/(1-aL))\n",
    "    \n",
    "    current_save=save_d[l-1]\n",
    "    dal,dwl,dbl=lin_acti_backward(daL,current_save,\"sigmoid\")\n",
    "    grad[\"da\"+str(L)]=dal\n",
    "    grad[\"dw\"+str(L)]=dwl\n",
    "    grad[\"db\"+str(L)]=dbl\n",
    "    \n",
    "    for l in reversed(range(L-1)):\n",
    "        current_save=save_d[l]\n",
    "        dal,dwl,dbl=lin_acti_backward(dal,current_save,\"relu\")\n",
    "        grad[\"da\"+str(l+1)]=dal\n",
    "        grad[\"dw\"+str(l+1)]=dwl\n",
    "        grad[\"db\"+str(l+1)]=dbl\n",
    "    \n",
    "    return grad\n",
    "\n",
    "    "
   ]
  },
  {
   "cell_type": "code",
   "execution_count": null,
   "id": "f0ff5a15",
   "metadata": {},
   "outputs": [],
   "source": [
    "def update_params(params,grad,lr):\n",
    "    L=len(params)//2\n",
    "    for l in range(L):\n",
    "        params[\"w\"+str(l+1)]-=lr*grad[\"dw\"+str(l+1)]\n",
    "        params[\"b\"+str(l+1)]-=lr*grad[\"db\"+str(l+1)]\n",
    "        \n",
    "    return params"
   ]
  }
 ],
 "metadata": {
  "kernelspec": {
   "display_name": "Python 3 (ipykernel)",
   "language": "python",
   "name": "python3"
  },
  "language_info": {
   "codemirror_mode": {
    "name": "ipython",
    "version": 3
   },
   "file_extension": ".py",
   "mimetype": "text/x-python",
   "name": "python",
   "nbconvert_exporter": "python",
   "pygments_lexer": "ipython3",
   "version": "3.9.12"
  }
 },
 "nbformat": 4,
 "nbformat_minor": 5
}
