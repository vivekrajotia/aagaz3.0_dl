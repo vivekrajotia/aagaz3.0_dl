{
 "cells": [
  {
   "cell_type": "code",
   "execution_count": 1,
   "id": "32633321",
   "metadata": {},
   "outputs": [],
   "source": [
    "#sigmoid function\n"
   ]
  },
  {
   "cell_type": "code",
   "execution_count": 2,
   "id": "a972e8b7",
   "metadata": {},
   "outputs": [],
   "source": [
    "import math\n",
    "\n",
    "def sigmoid_math(x):\n",
    "    s=1/(1+math.exp(-x))\n",
    "    \n",
    "    return s\n"
   ]
  },
  {
   "cell_type": "code",
   "execution_count": 3,
   "id": "247b210f",
   "metadata": {},
   "outputs": [
    {
     "data": {
      "text/plain": [
       "0.9525741268224334"
      ]
     },
     "execution_count": 3,
     "metadata": {},
     "output_type": "execute_result"
    }
   ],
   "source": [
    "sigmoid_math(3)"
   ]
  },
  {
   "cell_type": "code",
   "execution_count": 4,
   "id": "00453e1a",
   "metadata": {},
   "outputs": [
    {
     "ename": "TypeError",
     "evalue": "bad operand type for unary -: 'list'",
     "output_type": "error",
     "traceback": [
      "\u001b[1;31m---------------------------------------------------------------------------\u001b[0m",
      "\u001b[1;31mTypeError\u001b[0m                                 Traceback (most recent call last)",
      "\u001b[1;32m~\\AppData\\Local\\Temp\\ipykernel_11044\\931830796.py\u001b[0m in \u001b[0;36m<module>\u001b[1;34m\u001b[0m\n\u001b[0;32m      1\u001b[0m \u001b[0mx\u001b[0m\u001b[1;33m=\u001b[0m\u001b[1;33m[\u001b[0m\u001b[1;36m1\u001b[0m\u001b[1;33m,\u001b[0m\u001b[1;36m2\u001b[0m\u001b[1;33m,\u001b[0m\u001b[1;36m3\u001b[0m\u001b[1;33m,\u001b[0m\u001b[1;36m4\u001b[0m\u001b[1;33m]\u001b[0m\u001b[1;33m\u001b[0m\u001b[1;33m\u001b[0m\u001b[0m\n\u001b[1;32m----> 2\u001b[1;33m \u001b[0msigmoid_math\u001b[0m\u001b[1;33m(\u001b[0m\u001b[0mx\u001b[0m\u001b[1;33m)\u001b[0m\u001b[1;33m\u001b[0m\u001b[1;33m\u001b[0m\u001b[0m\n\u001b[0m",
      "\u001b[1;32m~\\AppData\\Local\\Temp\\ipykernel_11044\\1868068736.py\u001b[0m in \u001b[0;36msigmoid_math\u001b[1;34m(x)\u001b[0m\n\u001b[0;32m      2\u001b[0m \u001b[1;33m\u001b[0m\u001b[0m\n\u001b[0;32m      3\u001b[0m \u001b[1;32mdef\u001b[0m \u001b[0msigmoid_math\u001b[0m\u001b[1;33m(\u001b[0m\u001b[0mx\u001b[0m\u001b[1;33m)\u001b[0m\u001b[1;33m:\u001b[0m\u001b[1;33m\u001b[0m\u001b[1;33m\u001b[0m\u001b[0m\n\u001b[1;32m----> 4\u001b[1;33m     \u001b[0ms\u001b[0m\u001b[1;33m=\u001b[0m\u001b[1;36m1\u001b[0m\u001b[1;33m/\u001b[0m\u001b[1;33m(\u001b[0m\u001b[1;36m1\u001b[0m\u001b[1;33m+\u001b[0m\u001b[0mmath\u001b[0m\u001b[1;33m.\u001b[0m\u001b[0mexp\u001b[0m\u001b[1;33m(\u001b[0m\u001b[1;33m-\u001b[0m\u001b[0mx\u001b[0m\u001b[1;33m)\u001b[0m\u001b[1;33m)\u001b[0m\u001b[1;33m\u001b[0m\u001b[1;33m\u001b[0m\u001b[0m\n\u001b[0m\u001b[0;32m      5\u001b[0m \u001b[1;33m\u001b[0m\u001b[0m\n\u001b[0;32m      6\u001b[0m     \u001b[1;32mreturn\u001b[0m \u001b[0ms\u001b[0m\u001b[1;33m\u001b[0m\u001b[1;33m\u001b[0m\u001b[0m\n",
      "\u001b[1;31mTypeError\u001b[0m: bad operand type for unary -: 'list'"
     ]
    }
   ],
   "source": [
    "x=[1,2,3,4]\n",
    "sigmoid_math(x)"
   ]
  },
  {
   "cell_type": "code",
   "execution_count": 5,
   "id": "9288e837",
   "metadata": {},
   "outputs": [],
   "source": [
    "import numpy as np\n",
    "def sigmoid_np(x):\n",
    "    s=1/(1+np.exp(-x))\n",
    "    return s"
   ]
  },
  {
   "cell_type": "code",
   "execution_count": 8,
   "id": "570dd502",
   "metadata": {},
   "outputs": [
    {
     "data": {
      "text/plain": [
       "array([0.73105858, 0.88079708, 0.95257413, 0.98201379])"
      ]
     },
     "execution_count": 8,
     "metadata": {},
     "output_type": "execute_result"
    }
   ],
   "source": [
    "x=np.array([1,2,3,4])\n",
    "sigmoid_np(x)"
   ]
  },
  {
   "cell_type": "code",
   "execution_count": 9,
   "id": "0865c738",
   "metadata": {},
   "outputs": [
    {
     "data": {
      "text/plain": [
       "array([0.19661193, 0.10499359, 0.04517666, 0.01766271])"
      ]
     },
     "execution_count": 9,
     "metadata": {},
     "output_type": "execute_result"
    }
   ],
   "source": [
    "def d_sigmoid(x):\n",
    "    s=1/(1+np.exp(-x))\n",
    "    ds=s*(1-s) #diff\n",
    "    return ds\n",
    "d_sigmoid(x)\n",
    "    "
   ]
  },
  {
   "cell_type": "code",
   "execution_count": 10,
   "id": "9c6949f3",
   "metadata": {},
   "outputs": [],
   "source": [
    "def vector(image):\n",
    "    v=image.reshape(image.shape[0]*image.shape[1]*image.shape[2],1)\n",
    "    \n",
    "    return v"
   ]
  },
  {
   "cell_type": "code",
   "execution_count": 11,
   "id": "02e0386b",
   "metadata": {},
   "outputs": [
    {
     "name": "stdout",
     "output_type": "stream",
     "text": [
      "[[0.67826139]\n",
      " [0.29380381]\n",
      " [0.90714982]\n",
      " [0.52835647]\n",
      " [0.4215251 ]\n",
      " [0.45017551]\n",
      " [0.92814219]\n",
      " [0.96677647]\n",
      " [0.85304703]\n",
      " [0.52351845]\n",
      " [0.19981397]\n",
      " [0.27417313]\n",
      " [0.60659855]\n",
      " [0.00533165]\n",
      " [0.10820313]\n",
      " [0.49978937]\n",
      " [0.34144279]\n",
      " [0.94630077]]\n"
     ]
    }
   ],
   "source": [
    "image = np.array([[[ 0.67826139,  0.29380381],\n",
    "        [ 0.90714982,  0.52835647],\n",
    "        [ 0.4215251 ,  0.45017551]],\n",
    "\n",
    "       [[ 0.92814219,  0.96677647],\n",
    "        [ 0.85304703,  0.52351845],\n",
    "        [ 0.19981397,  0.27417313]],\n",
    "\n",
    "       [[ 0.60659855,  0.00533165],\n",
    "        [ 0.10820313,  0.49978937],\n",
    "        [ 0.34144279,  0.94630077]]])\n",
    "print(vector(image))\n"
   ]
  },
  {
   "cell_type": "code",
   "execution_count": 2,
   "id": "2edf812b",
   "metadata": {},
   "outputs": [],
   "source": [
    "#softmax\n",
    "import numpy as np\n",
    "def softmax(x):\n",
    "    e=np.exp(x)\n",
    "    e_sum=np.sum(e,axis=1,keepdims=True)\n",
    "    s=e/e_sum\n",
    "    return s \n",
    "    \n"
   ]
  },
  {
   "cell_type": "code",
   "execution_count": 3,
   "id": "b6ce0fa1",
   "metadata": {},
   "outputs": [
    {
     "data": {
      "text/plain": [
       "array([[9.80897665e-01, 8.94462891e-04, 1.79657674e-02, 1.21052389e-04,\n",
       "        1.21052389e-04],\n",
       "       [8.78679856e-01, 1.18916387e-01, 8.01252314e-04, 8.01252314e-04,\n",
       "        8.01252314e-04]])"
      ]
     },
     "execution_count": 3,
     "metadata": {},
     "output_type": "execute_result"
    }
   ],
   "source": [
    "x = np.array([\n",
    "    [9, 2, 5, 0, 0],\n",
    "    [7, 5, 0, 0 ,0]])\n",
    "softmax(x)"
   ]
  },
  {
   "cell_type": "code",
   "execution_count": 4,
   "id": "4386f4da",
   "metadata": {},
   "outputs": [],
   "source": [
    "#normalization\n",
    "def normalization(x):\n",
    "    norm_x=np.linalg.norm(x,axis=1,keepdims=True)\n",
    "    x=x/norm_x\n",
    "    return x"
   ]
  },
  {
   "cell_type": "code",
   "execution_count": 5,
   "id": "d352bfb2",
   "metadata": {},
   "outputs": [
    {
     "data": {
      "text/plain": [
       "array([[0.85811633, 0.19069252, 0.47673129, 0.        , 0.        ],\n",
       "       [0.81373347, 0.58123819, 0.        , 0.        , 0.        ]])"
      ]
     },
     "execution_count": 5,
     "metadata": {},
     "output_type": "execute_result"
    }
   ],
   "source": [
    "x = np.array([\n",
    "    [9, 2, 5, 0, 0],\n",
    "    [7, 5, 0, 0 ,0]])\n",
    "normalization(x)"
   ]
  },
  {
   "cell_type": "code",
   "execution_count": 1,
   "id": "d26e4d22",
   "metadata": {},
   "outputs": [],
   "source": [
    "import numpy as np\n",
    "import pandas as pd\n",
    "import matplotlib.pyplot as plt\n",
    "import h5py\n",
    "import scipy\n",
    "from PIL import Image\n",
    "from scipy import ndimage\n",
    "from lr_utils import load_dataset\n"
   ]
  },
  {
   "cell_type": "code",
   "execution_count": 2,
   "id": "884242bc",
   "metadata": {},
   "outputs": [],
   "source": [
    "train_x,train_y,test_x,test_y,classes=load_dataset()"
   ]
  },
  {
   "cell_type": "code",
   "execution_count": 3,
   "id": "eb671e9e",
   "metadata": {},
   "outputs": [
    {
     "data": {
      "text/plain": [
       "array([1], dtype=int64)"
      ]
     },
     "execution_count": 3,
     "metadata": {},
     "output_type": "execute_result"
    },
    {
     "data": {
      "image/png": "[encoded data removed]",
      "text/plain": [
       "<Figure size 432x288 with 1 Axes>"
      ]
     },
     "metadata": {
      "needs_background": "light"
     },
     "output_type": "display_data"
    }
   ],
   "source": [
    "plt.imshow(train_x[25])\n",
    "train_y[:,25]"
   ]
  },
  {
   "cell_type": "code",
   "execution_count": 4,
   "id": "85b75a37",
   "metadata": {},
   "outputs": [
    {
     "data": {
      "text/plain": [
       "209"
      ]
     },
     "execution_count": 4,
     "metadata": {},
     "output_type": "execute_result"
    }
   ],
   "source": [
    "m_train=train_x.shape[0]\n",
    "m_train"
   ]
  },
  {
   "cell_type": "code",
   "execution_count": 5,
   "id": "a114e746",
   "metadata": {},
   "outputs": [
    {
     "data": {
      "text/plain": [
       "50"
      ]
     },
     "execution_count": 5,
     "metadata": {},
     "output_type": "execute_result"
    }
   ],
   "source": [
    "m_test=test_x.shape[0]\n",
    "m_test"
   ]
  },
  {
   "cell_type": "code",
   "execution_count": 6,
   "id": "711853b8",
   "metadata": {},
   "outputs": [
    {
     "data": {
      "text/plain": [
       "(209, 64, 64, 3)"
      ]
     },
     "execution_count": 6,
     "metadata": {},
     "output_type": "execute_result"
    }
   ],
   "source": [
    "train_x.shape"
   ]
  },
  {
   "cell_type": "code",
   "execution_count": 7,
   "id": "5ab85521",
   "metadata": {},
   "outputs": [
    {
     "data": {
      "text/plain": [
       "(1, 209)"
      ]
     },
     "execution_count": 7,
     "metadata": {},
     "output_type": "execute_result"
    }
   ],
   "source": [
    "train_y.shape"
   ]
  },
  {
   "cell_type": "code",
   "execution_count": 8,
   "id": "183a5402",
   "metadata": {},
   "outputs": [],
   "source": [
    "ftrain_x=train_x.reshape(train_x.shape[0],-1).T"
   ]
  },
  {
   "cell_type": "code",
   "execution_count": 9,
   "id": "aadd72c2",
   "metadata": {},
   "outputs": [
    {
     "data": {
      "text/plain": [
       "(12288, 209)"
      ]
     },
     "execution_count": 9,
     "metadata": {},
     "output_type": "execute_result"
    }
   ],
   "source": [
    "ftrain_x.shape"
   ]
  },
  {
   "cell_type": "code",
   "execution_count": 10,
   "id": "6da2b019",
   "metadata": {},
   "outputs": [],
   "source": [
    "ftest_x=test_x.reshape(test_x.shape[0],-1).T"
   ]
  },
  {
   "cell_type": "code",
   "execution_count": 11,
   "id": "5e7e5ec2",
   "metadata": {},
   "outputs": [
    {
     "data": {
      "text/plain": [
       "(12288, 50)"
      ]
     },
     "execution_count": 11,
     "metadata": {},
     "output_type": "execute_result"
    }
   ],
   "source": [
    "ftest_x.shape"
   ]
  },
  {
   "cell_type": "code",
   "execution_count": 30,
   "id": "514edbcc",
   "metadata": {},
   "outputs": [],
   "source": [
    "def sigmoid(z):\n",
    "    s=1/(1+np.exp(-z))\n",
    "    return s"
   ]
  },
  {
   "cell_type": "code",
   "execution_count": 31,
   "id": "6306c221",
   "metadata": {},
   "outputs": [],
   "source": [
    "def init_params(dim):\n",
    "    w=np.zeros([dim,1])\n",
    "    b=0\n",
    "    assert(w.shape==(dim,1))\n",
    "    assert(isinstance(b,float) or isinstance(b,int))\n",
    "    \n",
    "    return w,b"
   ]
  },
  {
   "cell_type": "code",
   "execution_count": 32,
   "id": "7f914158",
   "metadata": {},
   "outputs": [],
   "source": [
    "def prop(w,b,x,y):\n",
    "    m=x.shape[1]\n",
    "    a=sigmoid(np.dot(w.T,x)+b)\n",
    "    cost=(1/m)*np.sum(-y*np.log(a)-(1-y)*np.log(1-a))\n",
    "    dw=(1/m)*np.dot(x,(a-y).T)\n",
    "    db=(1/m)*np.sum(a-y)\n",
    "    \n",
    "    assert(dw.shape==w.shape)\n",
    "    assert(db.dtype==float)\n",
    "    cost=np.squeeze(cost)\n",
    "    assert(cost.shape==())\n",
    "    \n",
    "    grad={\n",
    "        \"dw\":dw,\n",
    "        \"db\":db\n",
    "    }\n",
    "    return grad,cost"
   ]
  },
  {
   "cell_type": "code",
   "execution_count": 33,
   "id": "8b8c7d3b",
   "metadata": {},
   "outputs": [],
   "source": [
    "def grad_dec(w,b,x,y,num_itr,lr):\n",
    "    cost_=[]\n",
    "    for i in range(num_itr):\n",
    "        grad,cost=prop(w,b,x,y)\n",
    "        dw=grad[\"dw\"]\n",
    "        db=grad[\"db\"]\n",
    "        \n",
    "        w=w-lr*dw\n",
    "        b=b-lr*db\n",
    "        \n",
    "        if i%100==0:\n",
    "            cost_.append(cost)\n",
    "        params={\n",
    "            \"w\":w,\n",
    "            \"b\":b\n",
    "        }\n",
    "        grad={\n",
    "            \"dw\":dw,\n",
    "        \"db\":db}\n",
    "        \n",
    "    return params,grad,cost_"
   ]
  },
  {
   "cell_type": "code",
   "execution_count": 34,
   "id": "c15a2cfa",
   "metadata": {},
   "outputs": [],
   "source": [
    "def predict(w,b,x):\n",
    "    m=x.shape[1]\n",
    "    y_p=np.zeros((1,m))\n",
    "    w=w.reshape(x.shape[0],1)\n",
    "    \n",
    "    a=sigmoid(np.dot(w.T,x)+b)\n",
    "    \n",
    "    for i in range(a.shape[1]):\n",
    "        if a[0,i]<=0.5:\n",
    "            y_p[0,i]=0\n",
    "        else:\n",
    "            y_p[0,i]=1\n",
    "        pass\n",
    "    assert (y_p.shape==(1,m))\n",
    "    return y_p\n"
   ]
  },
  {
   "cell_type": "code",
   "execution_count": 35,
   "id": "bd047f28",
   "metadata": {},
   "outputs": [],
   "source": [
    "def log_model(x_train,y_train,x_test,y_test,num_itr,lr):\n",
    "    w,b=init_params(x_train.shape[0])\n",
    "    w=w.reshape(x_train.shape[0],1)\n",
    "    params,grad,costs=grad_dec(w,b,x_train,y_train,num_itr,lr)\n",
    "    \n",
    "    w=params[\"w\"]\n",
    "    b=params[\"b\"]\n",
    "    y_p_test=predict(w,b,x_test)\n",
    "    y_p_train=predict(w,b,x_train)\n",
    "    \n",
    "    print(\"training acc:{} %\".format(100-np.mean(np.abs(y_p_train-y_train))*100))\n",
    "    print(\"testing acc:{} %\".format(100-np.mean(np.abs(y_p_test-y_test))*100))\n",
    "    \n",
    "    d={\n",
    "        \"cost\":costs,\n",
    "        \"yp_test\":y_p_test,\n",
    "        \"yp_train\":y_p_train,\n",
    "        \"w\":w,\n",
    "        \"b\":b    }\n",
    "        \n",
    "    return d  "
   ]
  },
  {
   "cell_type": "code",
   "execution_count": 36,
   "id": "1a687ecb",
   "metadata": {},
   "outputs": [
    {
     "name": "stderr",
     "output_type": "stream",
     "text": [
      "C:\\Users\\vivek\\AppData\\Local\\Temp\\ipykernel_16720\\3742070354.py:2: RuntimeWarning: overflow encountered in exp\n",
      "  s=1/(1+np.exp(-z))\n",
      "C:\\Users\\vivek\\AppData\\Local\\Temp\\ipykernel_16720\\1693769842.py:4: RuntimeWarning: divide by zero encountered in log\n",
      "  cost=(1/m)*np.sum(-y*np.log(a)-(1-y)*np.log(1-a))\n",
      "C:\\Users\\vivek\\AppData\\Local\\Temp\\ipykernel_16720\\1693769842.py:4: RuntimeWarning: invalid value encountered in multiply\n",
      "  cost=(1/m)*np.sum(-y*np.log(a)-(1-y)*np.log(1-a))\n"
     ]
    },
    {
     "name": "stdout",
     "output_type": "stream",
     "text": [
      "training acc:100.0 %\n",
      "testing acc:72.0 %\n"
     ]
    }
   ],
   "source": [
    "m=log_model(ftrain_x,train_y,ftest_x,test_y,num_itr=2000,lr=0.005)"
   ]
  },
  {
   "cell_type": "code",
   "execution_count": 39,
   "id": "b4178fbc",
   "metadata": {},
   "outputs": [],
   "source": [
    "ftest_x=ftest_x/255\n",
    "ftrain_x=ftrain_x/255\n"
   ]
  },
  {
   "cell_type": "code",
   "execution_count": 60,
   "id": "2f9d867b",
   "metadata": {},
   "outputs": [
    {
     "name": "stdout",
     "output_type": "stream",
     "text": [
      "training acc:93.77990430622009 %\n",
      "testing acc:74.0 %\n"
     ]
    }
   ],
   "source": [
    "m=log_model(ftrain_x,train_y,ftest_x,test_y,num_itr=1000,lr=0.003)"
   ]
  },
  {
   "cell_type": "code",
   "execution_count": 61,
   "id": "b17c2499",
   "metadata": {},
   "outputs": [
    {
     "data": {
      "image/png": "[encoded data removed]",
      "text/plain": [
       "<Figure size 432x288 with 1 Axes>"
      ]
     },
     "metadata": {
      "needs_background": "light"
     },
     "output_type": "display_data"
    }
   ],
   "source": [
    "cost=np.squeeze(m[\"cost\"])\n",
    "plt.plot(cost)\n",
    "plt.ylabel(\"cost\")\n",
    "plt.xlabel(\"itr per100\")\n",
    "plt.show()"
   ]
  },
  {
   "cell_type": "code",
   "execution_count": null,
   "id": "c010210b",
   "metadata": {},
   "outputs": [],
   "source": []
  }
 ],
 "metadata": {
  "kernelspec": {
   "display_name": "Python 3 (ipykernel)",
   "language": "python",
   "name": "python3"
  },
  "language_info": {
   "codemirror_mode": {
    "name": "ipython",
    "version": 3
   },
   "file_extension": ".py",
   "mimetype": "text/x-python",
   "name": "python",
   "nbconvert_exporter": "python",
   "pygments_lexer": "ipython3",
   "version": "3.9.12"
  }
 },
 "nbformat": 4,
 "nbformat_minor": 5
}
